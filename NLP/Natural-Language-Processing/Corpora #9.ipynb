{
 "cells": [
  {
   "cell_type": "code",
   "execution_count": 1,
   "metadata": {},
   "outputs": [],
   "source": [
    "import nltk"
   ]
  },
  {
   "cell_type": "code",
   "execution_count": 5,
   "metadata": {},
   "outputs": [
    {
     "name": "stdout",
     "output_type": "stream",
     "text": [
      "C:\\Users\\Hansraj Rouniyar\\anaconda3\\lib\\site-packages\\nltk\\__init__.py\n"
     ]
    }
   ],
   "source": [
    "print(nltk.__file__)"
   ]
  },
  {
   "cell_type": "code",
   "execution_count": 10,
   "metadata": {},
   "outputs": [
    {
     "name": "stdout",
     "output_type": "stream",
     "text": [
      "['1:2 And the earth was without form, and void; and darkness was upon\\nthe face of the deep.', 'And the Spirit of God moved upon the face of the\\nwaters.', '1:3 And God said, Let there be light: and there was light.', '1:4 And God saw the light, that it was good: and God divided the light\\nfrom the darkness.', '1:5 And God called the light Day, and the darkness he called Night.', 'And the evening and the morning were the first day.', '1:6 And God said, Let there be a firmament in the midst of the waters,\\nand let it divide the waters from the waters.', '1:7 And God made the firmament, and divided the waters which were\\nunder the firmament from the waters which were above the firmament:\\nand it was so.', '1:8 And God called the firmament Heaven.', 'And the evening and the\\nmorning were the second day.', '1:9 And God said, Let the waters under the heaven be gathered together\\nunto one place, and let the dry land appear: and it was so.', '1:10 And God called the dry land Earth; and the gathering together of\\nthe waters called he Seas: and God saw that it was good.', '1:11 And God said, Let the earth bring forth grass, the herb yielding\\nseed, and the fruit tree yielding fruit after his kind, whose seed is\\nin itself, upon the earth: and it was so.', '1:12 And the earth brought forth grass, and herb yielding seed after\\nhis kind, and the tree yielding fruit, whose seed was in itself, after\\nhis kind: and God saw that it was good.', '1:13 And the evening and the morning were the third day.', '1:14 And God said, Let there be lights in the firmament of the heaven\\nto divide the day from the night; and let them be for signs, and for\\nseasons, and for days, and years: 1:15 And let them be for lights in\\nthe firmament of the heaven to give light upon the earth: and it was\\nso.', '1:16 And God made two great lights; the greater light to rule the day,\\nand the lesser light to rule the night: he made the stars also.', '1:17 And God set them in the firmament of the heaven to give light\\nupon the earth, 1:18 And to rule over the day and over the night, and\\nto divide the light from the darkness: and God saw that it was good.', '1:19 And the evening and the morning were the fourth day.', '1:20 And God said, Let the waters bring forth abundantly the moving\\ncreature that hath life, and fowl that may fly above the earth in the\\nopen firmament of heaven.', '1:21 And God created great whales, and every living creature that\\nmoveth, which the waters brought forth abundantly, after their kind,\\nand every winged fowl after his kind: and God saw that it was good.', '1:22 And God blessed them, saying, Be fruitful, and multiply, and fill\\nthe waters in the seas, and let fowl multiply in the earth.', '1:23 And the evening and the morning were the fifth day.', '1:24 And God said, Let the earth bring forth the living creature after\\nhis kind, cattle, and creeping thing, and beast of the earth after his\\nkind: and it was so.', '1:25 And God made the beast of the earth after his kind, and cattle\\nafter their kind, and every thing that creepeth upon the earth after\\nhis kind: and God saw that it was good.', '1:26 And God said, Let us make man in our image, after our likeness:\\nand let them have dominion over the fish of the sea, and over the fowl\\nof the air, and over the cattle, and over all the earth, and over\\nevery creeping thing that creepeth upon the earth.', '1:27 So God created man in his own image, in the image of God created\\nhe him; male and female created he them.', '1:28 And God blessed them, and God said unto them, Be fruitful, and\\nmultiply, and replenish the earth, and subdue it: and have dominion\\nover the fish of the sea, and over the fowl of the air, and over every\\nliving thing that moveth upon the earth.', '1:29 And God said, Behold, I have given you every herb bearing seed,\\nwhich is upon the face of all the earth, and every tree, in the which\\nis the fruit of a tree yielding seed; to you it shall be for meat.', '1:30 And to every beast of the earth, and to every fowl of the air,\\nand to every thing that creepeth upon the earth, wherein there is\\nlife, I have given every green herb for meat: and it was so.', '1:31 And God saw every thing that he had made, and, behold, it was\\nvery good.', 'And the evening and the morning were the sixth day.', '2:1 Thus the heavens and the earth were finished, and all the host of\\nthem.', '2:2 And on the seventh day God ended his work which he had made; and\\nhe rested on the seventh day from all his work which he had made.', '2:3 And God blessed the seventh day, and sanctified it: because that\\nin it he had rested from all his work which God created and made.', '2:4 These are the generations of the heavens and of the earth when\\nthey were created, in the day that the LORD God made the earth and the\\nheavens, 2:5 And every plant of the field before it was in the earth,\\nand every herb of the field before it grew: for the LORD God had not\\ncaused it to rain upon the earth, and there was not a man to till the\\nground.', '2:6 But there went up a mist from the earth, and watered the whole\\nface of the ground.', '2:7 And the LORD God formed man of the dust of the ground, and\\nbreathed into his nostrils the breath of life; and man became a living\\nsoul.', '2:8 And the LORD God planted a garden eastward in Eden; and there he\\nput the man whom he had formed.', '2:9 And out of the ground made the LORD God to grow every tree that is\\npleasant to the sight, and good for food; the tree of life also in the\\nmidst of the garden, and the tree of knowledge of good and evil.', '2:10 And a river went out of Eden to water the garden; and from thence\\nit was parted, and became into four heads.', '2:11 The name of the first is Pison: that is it which compasseth the\\nwhole land of Havilah, where there is gold; 2:12 And the gold of that\\nland is good: there is bdellium and the onyx stone.', '2:13 And the name of the second river is Gihon: the same is it that\\ncompasseth the whole land of Ethiopia.', '2:14 And the name of the third river is Hiddekel: that is it which\\ngoeth toward the east of Assyria.', 'And the fourth river is Euphrates.', '2:15 And the LORD God took the man, and put him into the garden of\\nEden to dress it and to keep it.', '2:16 And the LORD God commanded the man, saying, Of every tree of the\\ngarden thou mayest freely eat: 2:17 But of the tree of the knowledge\\nof good and evil, thou shalt not eat of it: for in the day that thou\\neatest thereof thou shalt surely die.', '2:18 And the LORD God said, It is not good that the man should be\\nalone; I will make him an help meet for him.', '2:19 And out of the ground the LORD God formed every beast of the\\nfield, and every fowl of the air; and brought them unto Adam to see\\nwhat he would call them: and whatsoever Adam called every living\\ncreature, that was the name thereof.']\n"
     ]
    }
   ],
   "source": [
    "from nltk.corpus import gutenberg\n",
    "from nltk.tokenize import sent_tokenize\n",
    "sample = gutenberg.raw(\"bible-kjv.txt\")\n",
    "tok=sent_tokenize(sample)\n",
    "print(tok[1:50])"
   ]
  },
  {
   "cell_type": "code",
   "execution_count": null,
   "metadata": {},
   "outputs": [],
   "source": []
  }
 ],
 "metadata": {
  "kernelspec": {
   "display_name": "Python 3",
   "language": "python",
   "name": "python3"
  },
  "language_info": {
   "codemirror_mode": {
    "name": "ipython",
    "version": 3
   },
   "file_extension": ".py",
   "mimetype": "text/x-python",
   "name": "python",
   "nbconvert_exporter": "python",
   "pygments_lexer": "ipython3",
   "version": "3.7.6"
  }
 },
 "nbformat": 4,
 "nbformat_minor": 4
}
